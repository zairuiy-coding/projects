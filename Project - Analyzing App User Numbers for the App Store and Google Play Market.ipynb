{
 "cells": [
  {
   "cell_type": "markdown",
   "id": "3da8e156",
   "metadata": {},
   "source": [
    "# Project: Analyzing App User Numbers for the App Store and Google Play Market"
   ]
  },
  {
   "cell_type": "markdown",
   "id": "cc68e8a8",
   "metadata": {},
   "source": [
    "## Introduction"
   ]
  },
  {
   "cell_type": "markdown",
   "id": "f75c2d2b",
   "metadata": {},
   "source": [
    "Suppose we are working as a data analyst for a company that builds Android and iOS mobile apps. The company makes apps availiable both on Google Play and in the App Store. The company only buids apps that are **free** to download and install, and the main source of revenue consists of **in-app ads**.\n",
    "\n",
    "This means that **the number of users of our apps** determines our revenue for any give app — the more users who see and engage with the ads, the better."
   ]
  },
  {
   "cell_type": "markdown",
   "id": "a9dd8714",
   "metadata": {},
   "source": [
    "### Project Goal"
   ]
  },
  {
   "cell_type": "markdown",
   "id": "4058ced9",
   "metadata": {},
   "source": [
    "***The goal of this project*** is to analyze data to help our developers understand what type of apps are likely to attract more users."
   ]
  },
  {
   "cell_type": "markdown",
   "id": "17bb2c73",
   "metadata": {},
   "source": [
    "### Data Source"
   ]
  },
  {
   "cell_type": "markdown",
   "id": "3518d323",
   "metadata": {},
   "source": [
    "To achieve the goal, we'll need to collect and analyze data about mobile apps available on Google Play and the App Store.\n",
    "\n",
    "As of 3rd quarter 2022, there were approximately 1.6 million iOS apps available on the App Store, and 3.6 million Android apps on Google Play (source: [Statista](https://www.statista.com/statistics/276623/number-of-apps-available-in-leading-app-stores/)).\n",
    "\n",
    "Collecting data for over 5 million apps requires a significant amount of time and money, so we'll try to analyze a sample of the data instead.\n",
    "\n",
    "Currently, there are two existing datasets that seem to meet our goals:\n",
    "\n",
    "- A dataset containing data about approximately 10,000 Android apps from Google Play; the data was collected in August 2018. From the link: https://dq-content.s3.amazonaws.com/350/googleplaystore.csv\n",
    "- A dataset containing data about approximately 7,000 iOS apps from the App Store; the data was collected in July 2017. From the link: https://dq-content.s3.amazonaws.com/350/AppleStore.csv"
   ]
  },
  {
   "cell_type": "markdown",
   "id": "2b20f579",
   "metadata": {},
   "source": [
    "## 1. Opening and Exploring the Data"
   ]
  },
  {
   "cell_type": "markdown",
   "id": "d8f26fd3",
   "metadata": {},
   "source": [
    "We will start by opening and exploring these two datasets."
   ]
  },
  {
   "cell_type": "markdown",
   "id": "03dc5861",
   "metadata": {},
   "source": [
    "### 1.1 Open the datasets"
   ]
  },
  {
   "cell_type": "code",
   "execution_count": 1,
   "id": "7fe20332",
   "metadata": {},
   "outputs": [],
   "source": [
    "from csv import reader\n",
    "\n",
    "### the AppleStore Dataset ###\n",
    "opened_file=open('AppleStore.csv')\n",
    "read_file=reader(opened_file)\n",
    "ios=list(read_file)\n",
    "ios_header=ios[0]\n",
    "ios = ios[1:]\n",
    "\n",
    "### the GooglePlayStore Dataset ###\n",
    "opened_file=open('googleplaystore.csv')\n",
    "read_file=reader(opened_file)\n",
    "android=list(read_file)\n",
    "android_header=android[0]\n",
    "android = android[1:]"
   ]
  },
  {
   "cell_type": "markdown",
   "id": "44f724d2",
   "metadata": {},
   "source": [
    "### 1.2 define the `explore_data()` function"
   ]
  },
  {
   "cell_type": "markdown",
   "id": "d85d34d3",
   "metadata": {},
   "source": [
    "To make it easier to explore the datasets, we created a function named `explore_data()` that we can repeatedly use to print rows in a readable way.\n",
    "\n",
    "The function can print out entries of the dataset from specified start and end indexes. Also, it has an option to show the total number of rows and columns of a dataset."
   ]
  },
  {
   "cell_type": "code",
   "execution_count": 2,
   "id": "4e38949a",
   "metadata": {},
   "outputs": [],
   "source": [
    "def explore_data(dataset, start, end, rows_and_columns=False):\n",
    "    dataset_slice = dataset[start:end]    \n",
    "    for row in dataset_slice:\n",
    "        print(row)\n",
    "        print('\\n') # adds a new (empty) line after each row\n",
    "\n",
    "    if rows_and_columns:\n",
    "        print('Number of rows:', len(dataset))\n",
    "        print('Number of columns:', len(dataset[0]))"
   ]
  },
  {
   "cell_type": "markdown",
   "id": "2755cafe",
   "metadata": {},
   "source": [
    "### 1.3 Explore the datasets"
   ]
  },
  {
   "cell_type": "markdown",
   "id": "26c50912",
   "metadata": {},
   "source": [
    "We'll then use the created function to explore the two datasets:"
   ]
  },
  {
   "cell_type": "markdown",
   "id": "74ed44fa",
   "metadata": {},
   "source": [
    "#### The App Store Dataset:"
   ]
  },
  {
   "cell_type": "code",
   "execution_count": 3,
   "id": "aa82b0fb",
   "metadata": {},
   "outputs": [
    {
     "name": "stdout",
     "output_type": "stream",
     "text": [
      "ios data\n",
      "\n",
      "\n",
      "['id', 'track_name', 'size_bytes', 'currency', 'price', 'rating_count_tot', 'rating_count_ver', 'user_rating', 'user_rating_ver', 'ver', 'cont_rating', 'prime_genre', 'sup_devices.num', 'ipadSc_urls.num', 'lang.num', 'vpp_lic']\n",
      "\n",
      "\n",
      "['284882215', 'Facebook', '389879808', 'USD', '0.0', '2974676', '212', '3.5', '3.5', '95.0', '4+', 'Social Networking', '37', '1', '29', '1']\n",
      "\n",
      "\n",
      "['389801252', 'Instagram', '113954816', 'USD', '0.0', '2161558', '1289', '4.5', '4.0', '10.23', '12+', 'Photo & Video', '37', '0', '29', '1']\n",
      "\n",
      "\n",
      "['529479190', 'Clash of Clans', '116476928', 'USD', '0.0', '2130805', '579', '4.5', '4.5', '9.24.12', '9+', 'Games', '38', '5', '18', '1']\n",
      "\n",
      "\n",
      "['420009108', 'Temple Run', '65921024', 'USD', '0.0', '1724546', '3842', '4.5', '4.0', '1.6.2', '9+', 'Games', '40', '5', '1', '1']\n",
      "\n",
      "\n",
      "['284035177', 'Pandora - Music & Radio', '130242560', 'USD', '0.0', '1126879', '3594', '4.0', '4.5', '8.4.1', '12+', 'Music', '37', '4', '1', '1']\n",
      "\n",
      "\n",
      "Number of rows: 7197\n",
      "Number of columns: 16\n"
     ]
    }
   ],
   "source": [
    "print(\"ios data\")\n",
    "print('\\n')\n",
    "print(ios_header)\n",
    "print('\\n')\n",
    "explore_data(ios,0,5,True)"
   ]
  },
  {
   "cell_type": "markdown",
   "id": "b34db613",
   "metadata": {},
   "source": [
    "#### The Android Dataset:"
   ]
  },
  {
   "cell_type": "code",
   "execution_count": 4,
   "id": "7fa7282f",
   "metadata": {},
   "outputs": [
    {
     "name": "stdout",
     "output_type": "stream",
     "text": [
      "android data\n",
      "\n",
      "\n",
      "['App', 'Category', 'Rating', 'Reviews', 'Size', 'Installs', 'Type', 'Price', 'Content Rating', 'Genres', 'Last Updated', 'Current Ver', 'Android Ver']\n",
      "\n",
      "\n",
      "['Photo Editor & Candy Camera & Grid & ScrapBook', 'ART_AND_DESIGN', '4.1', '159', '19M', '10,000+', 'Free', '0', 'Everyone', 'Art & Design', 'January 7, 2018', '1.0.0', '4.0.3 and up']\n",
      "\n",
      "\n",
      "['Coloring book moana', 'ART_AND_DESIGN', '3.9', '967', '14M', '500,000+', 'Free', '0', 'Everyone', 'Art & Design;Pretend Play', 'January 15, 2018', '2.0.0', '4.0.3 and up']\n",
      "\n",
      "\n",
      "['U Launcher Lite – FREE Live Cool Themes, Hide Apps', 'ART_AND_DESIGN', '4.7', '87510', '8.7M', '5,000,000+', 'Free', '0', 'Everyone', 'Art & Design', 'August 1, 2018', '1.2.4', '4.0.3 and up']\n",
      "\n",
      "\n",
      "['Sketch - Draw & Paint', 'ART_AND_DESIGN', '4.5', '215644', '25M', '50,000,000+', 'Free', '0', 'Teen', 'Art & Design', 'June 8, 2018', 'Varies with device', '4.2 and up']\n",
      "\n",
      "\n",
      "['Pixel Draw - Number Art Coloring Book', 'ART_AND_DESIGN', '4.3', '967', '2.8M', '100,000+', 'Free', '0', 'Everyone', 'Art & Design;Creativity', 'June 20, 2018', '1.1', '4.4 and up']\n",
      "\n",
      "\n",
      "Number of rows: 10841\n",
      "Number of columns: 13\n"
     ]
    }
   ],
   "source": [
    "print(\"android data\")\n",
    "print('\\n')\n",
    "print(android_header)\n",
    "print('\\n') \n",
    "explore_data(android,0,5,True)"
   ]
  },
  {
   "cell_type": "markdown",
   "id": "e0d2826a",
   "metadata": {},
   "source": [
    "## 2. Data Cleaning"
   ]
  },
  {
   "cell_type": "markdown",
   "id": "0d34a1e6",
   "metadata": {},
   "source": [
    "### 2.1 Deleting Wrong Data"
   ]
  },
  {
   "cell_type": "markdown",
   "id": "c9816f71",
   "metadata": {},
   "source": [
    "We first check whether there are entries that contain missing value:"
   ]
  },
  {
   "cell_type": "code",
   "execution_count": 5,
   "id": "363b18ee",
   "metadata": {},
   "outputs": [
    {
     "name": "stdout",
     "output_type": "stream",
     "text": [
      "['Life Made WI-Fi Touchscreen Photo Frame', '1.9', '19', '3.0M', '1,000+', 'Free', '0', 'Everyone', '', 'February 11, 2018', '1.0.19', '4.0 and up']\n",
      "\n",
      "\n",
      "Android Index postion is: 10472\n"
     ]
    }
   ],
   "source": [
    "for row in ios:\n",
    "    if len(row)!=len(ios_header):\n",
    "        print(row)\n",
    "        print('\\n')\n",
    "        print(\"ios Index postion is:\", ios.index(row))\n",
    "        \n",
    "for row in android:\n",
    "    if len(row)!=len(android_header):\n",
    "        print(row)\n",
    "        print('\\n')\n",
    "        print(\"Android Index postion is:\", android.index(row))"
   ]
  },
  {
   "cell_type": "markdown",
   "id": "1dc5eec0",
   "metadata": {},
   "source": [
    "From the output of the above cell, we can tell that the index 10472 row in the ios dataset contains a missing value. We therefore delete this row."
   ]
  },
  {
   "cell_type": "code",
   "execution_count": 6,
   "id": "65552979",
   "metadata": {},
   "outputs": [],
   "source": [
    "del android[10472]  # don't run this line more than once"
   ]
  },
  {
   "cell_type": "markdown",
   "id": "7de1adbf",
   "metadata": {},
   "source": [
    "### 2.2 Removing Duplicate Entries"
   ]
  },
  {
   "cell_type": "markdown",
   "id": "7a8726bb",
   "metadata": {},
   "source": [
    "#### 2.2.1 Check whether there are duplicate entries in the datasets"
   ]
  },
  {
   "cell_type": "markdown",
   "id": "8aeeb126",
   "metadata": {},
   "source": [
    "When we explore the Google P{lay dataset, we find that some apps have more than one entries.\n",
    "\n",
    "For example, the application Instagram has four entries:"
   ]
  },
  {
   "cell_type": "code",
   "execution_count": 7,
   "id": "66b1b961",
   "metadata": {},
   "outputs": [
    {
     "name": "stdout",
     "output_type": "stream",
     "text": [
      "['Instagram', 'SOCIAL', '4.5', '66577313', 'Varies with device', '1,000,000,000+', 'Free', '0', 'Teen', 'Social', 'July 31, 2018', 'Varies with device', 'Varies with device']\n",
      "['Instagram', 'SOCIAL', '4.5', '66577446', 'Varies with device', '1,000,000,000+', 'Free', '0', 'Teen', 'Social', 'July 31, 2018', 'Varies with device', 'Varies with device']\n",
      "['Instagram', 'SOCIAL', '4.5', '66577313', 'Varies with device', '1,000,000,000+', 'Free', '0', 'Teen', 'Social', 'July 31, 2018', 'Varies with device', 'Varies with device']\n",
      "['Instagram', 'SOCIAL', '4.5', '66509917', 'Varies with device', '1,000,000,000+', 'Free', '0', 'Teen', 'Social', 'July 31, 2018', 'Varies with device', 'Varies with device']\n"
     ]
    }
   ],
   "source": [
    "for app in android:\n",
    "    name = app[0]\n",
    "    if name =='Instagram':\n",
    "        print(app)"
   ]
  },
  {
   "cell_type": "code",
   "execution_count": 8,
   "id": "af0ec2f6",
   "metadata": {
    "scrolled": true
   },
   "outputs": [
    {
     "name": "stdout",
     "output_type": "stream",
     "text": [
      "Number of duplicate apps: 1181\n",
      "\n",
      "\n",
      "Example of duplicate apps: ['Quick PDF Scanner + OCR FREE', 'Box', 'Google My Business', 'ZOOM Cloud Meetings', 'join.me - Simple Meetings', 'Box', 'Zenefits', 'Google Ads', 'Google My Business', 'Slack', 'FreshBooks Classic', 'Insightly CRM', 'QuickBooks Accounting: Invoicing & Expenses', 'HipChat - Chat Built for Teams', 'Xero Accounting Software']\n"
     ]
    }
   ],
   "source": [
    "duplicate_apps_android = []\n",
    "unique_apps_android = []     \n",
    "        \n",
    "\n",
    "for app in android:\n",
    "    name = app[0]\n",
    "    if name in unique_apps_android:\n",
    "        duplicate_apps_android.append(name)\n",
    "    else:\n",
    "        unique_apps_android.append(name)\n",
    "        \n",
    "print('Number of duplicate apps:', len(duplicate_apps_android))\n",
    "print('\\n')\n",
    "print('Example of duplicate apps:', duplicate_apps_android[:15])"
   ]
  },
  {
   "cell_type": "markdown",
   "id": "4adc2fcd",
   "metadata": {},
   "source": [
    "From the above cell output, we can tell that there are 1180 duplicate apps in total.\n",
    "\n",
    "Since we don't want to count certain apps more than once when we analyze data, we need to remove the duplicate entries and keep only one entry per app. \n",
    "\n",
    "One thing we could do is remove the duplicate rows randomly, but we could probably find a better way.\n",
    "\n",
    "In the next step, we will set up a rule to remove the duplicate entries and keep only one entry per app:"
   ]
  },
  {
   "cell_type": "markdown",
   "id": "c761c3a8",
   "metadata": {},
   "source": [
    "#### 2.2.2 Set up a rule to remove the duplicate entries"
   ]
  },
  {
   "cell_type": "markdown",
   "id": "404e20fc",
   "metadata": {},
   "source": [
    "Take Instagram as an example:"
   ]
  },
  {
   "cell_type": "code",
   "execution_count": 9,
   "id": "857ca548",
   "metadata": {
    "scrolled": false
   },
   "outputs": [
    {
     "name": "stdout",
     "output_type": "stream",
     "text": [
      "['Instagram', 'SOCIAL', '4.5', '66577313', 'Varies with device', '1,000,000,000+', 'Free', '0', 'Teen', 'Social', 'July 31, 2018', 'Varies with device', 'Varies with device']\n",
      "['Instagram', 'SOCIAL', '4.5', '66577446', 'Varies with device', '1,000,000,000+', 'Free', '0', 'Teen', 'Social', 'July 31, 2018', 'Varies with device', 'Varies with device']\n",
      "['Instagram', 'SOCIAL', '4.5', '66577313', 'Varies with device', '1,000,000,000+', 'Free', '0', 'Teen', 'Social', 'July 31, 2018', 'Varies with device', 'Varies with device']\n",
      "['Instagram', 'SOCIAL', '4.5', '66509917', 'Varies with device', '1,000,000,000+', 'Free', '0', 'Teen', 'Social', 'July 31, 2018', 'Varies with device', 'Varies with device']\n"
     ]
    }
   ],
   "source": [
    "for app in android:\n",
    "    name = app[0]\n",
    "    if name == 'Instagram':\n",
    "        print(app)"
   ]
  },
  {
   "cell_type": "markdown",
   "id": "827708ae",
   "metadata": {},
   "source": [
    "The duplicated entries have different number of reviews, indicating that the data was collected at different times. The highest number of reviews represent the most recent entry.\n",
    "\n",
    "Therefore, we keep the entry with the highest reviews and delect all others."
   ]
  },
  {
   "cell_type": "markdown",
   "id": "49f77732",
   "metadata": {},
   "source": [
    "#### 2.2.3 Create a dictionary containing unique app name and the highest number of reviews"
   ]
  },
  {
   "cell_type": "markdown",
   "id": "933432ca",
   "metadata": {},
   "source": [
    "In the next step, we try to create a dictionary where each key is a unique app name, and the value is the highest number of reviews of that app."
   ]
  },
  {
   "cell_type": "code",
   "execution_count": 10,
   "id": "feb8477b",
   "metadata": {},
   "outputs": [],
   "source": [
    "reviews_max={}\n",
    "\n",
    "for row in android:\n",
    "    name = row[0]\n",
    "    n_reviews=float(row[3])\n",
    "    \n",
    "    if name in reviews_max and n_reviews > reviews_max[name]:\n",
    "        reviews_max[name]=n_reviews\n",
    "        \n",
    "    elif name not in reviews_max:\n",
    "        reviews_max[name]=n_reviews\n"
   ]
  },
  {
   "cell_type": "markdown",
   "id": "fe69381f",
   "metadata": {},
   "source": [
    "#### 2.2.4 Use the dictionary to remove the duplicated rows"
   ]
  },
  {
   "cell_type": "markdown",
   "id": "d60a5f25",
   "metadata": {},
   "source": [
    "Then, we use the `reviews_max` dictionary created above to create a new data set, which will have only one entry per app (and we only select the apps with the highest number of reviews)."
   ]
  },
  {
   "cell_type": "code",
   "execution_count": 11,
   "id": "a1e7ffb2",
   "metadata": {},
   "outputs": [],
   "source": [
    "android_clean=[]\n",
    "already_added=[]\n",
    "    \n",
    "for row in android:\n",
    "    name = row[0]\n",
    "    n_reviews=float(row[3])\n",
    "    \n",
    "    if n_reviews==reviews_max[name] and name not in already_added:\n",
    "        android_clean.append(row)\n",
    "        already_added.append(name)"
   ]
  },
  {
   "cell_type": "markdown",
   "id": "0707301d",
   "metadata": {},
   "source": [
    "#### 2.2.5 Inspect the `android_clean` dataset that we just created above"
   ]
  },
  {
   "cell_type": "code",
   "execution_count": 12,
   "id": "f9e6ad93",
   "metadata": {
    "scrolled": true
   },
   "outputs": [
    {
     "name": "stdout",
     "output_type": "stream",
     "text": [
      "['Photo Editor & Candy Camera & Grid & ScrapBook', 'ART_AND_DESIGN', '4.1', '159', '19M', '10,000+', 'Free', '0', 'Everyone', 'Art & Design', 'January 7, 2018', '1.0.0', '4.0.3 and up']\n",
      "\n",
      "\n",
      "['U Launcher Lite – FREE Live Cool Themes, Hide Apps', 'ART_AND_DESIGN', '4.7', '87510', '8.7M', '5,000,000+', 'Free', '0', 'Everyone', 'Art & Design', 'August 1, 2018', '1.2.4', '4.0.3 and up']\n",
      "\n",
      "\n",
      "['Sketch - Draw & Paint', 'ART_AND_DESIGN', '4.5', '215644', '25M', '50,000,000+', 'Free', '0', 'Teen', 'Art & Design', 'June 8, 2018', 'Varies with device', '4.2 and up']\n",
      "\n",
      "\n",
      "['Pixel Draw - Number Art Coloring Book', 'ART_AND_DESIGN', '4.3', '967', '2.8M', '100,000+', 'Free', '0', 'Everyone', 'Art & Design;Creativity', 'June 20, 2018', '1.1', '4.4 and up']\n",
      "\n",
      "\n",
      "Number of rows: 9659\n",
      "Number of columns: 13\n"
     ]
    }
   ],
   "source": [
    "explore_data(android_clean,0,4,True)"
   ]
  },
  {
   "cell_type": "markdown",
   "id": "feac97b4",
   "metadata": {},
   "source": [
    "From the output of the previous cell, we confirmed that the `android_clean` dataset have 9,659 rows, just as expected, and that removing duplicates worked properly."
   ]
  },
  {
   "cell_type": "markdown",
   "id": "a158551e",
   "metadata": {},
   "source": [
    "### 2.3 Removing Non-English Apps"
   ]
  },
  {
   "cell_type": "markdown",
   "id": "a5e5d650",
   "metadata": {},
   "source": [
    "When we explore the datasets enough, we notice that both datasets have apps with names that suggest they are not designed for an English-speaking audience:"
   ]
  },
  {
   "cell_type": "code",
   "execution_count": 13,
   "id": "d8622a24",
   "metadata": {},
   "outputs": [
    {
     "name": "stdout",
     "output_type": "stream",
     "text": [
      "爱奇艺PPS -《欢乐颂2》电视剧热播\n",
      "【脱出ゲーム】絶対に最後までプレイしないで 〜謎解き＆ブロックパズル〜\n",
      "中国語 AQリスニング\n",
      "لعبة تقدر تربح DZ\n"
     ]
    }
   ],
   "source": [
    "print(ios[813][1])\n",
    "print(ios[6731][1])\n",
    "\n",
    "print(android_clean[4412][0])\n",
    "print(android_clean[7940][0])"
   ]
  },
  {
   "cell_type": "markdown",
   "id": "bb2117e3",
   "metadata": {},
   "source": [
    "Since we use English for the apps we develop at our company, we'd like to analyze only the apps that are designed for an English-speaking audience, and remove the rests."
   ]
  },
  {
   "cell_type": "markdown",
   "id": "747bc991",
   "metadata": {},
   "source": [
    "#### 2.3.1 Define a function to check whether a string contains a non-common English character"
   ]
  },
  {
   "cell_type": "markdown",
   "id": "d981e86e",
   "metadata": {},
   "source": [
    "One way to do this is to remove each app whose name contains a symbol that is not commonly used in English text — English text usually includes letters from the English alphabet, numbers composed of digits from 0 to 9, punctuation marks (., !, ?, ;, etc.), and other symbols (+, *, /, etc.).\n",
    "\n",
    "All these characters that are specific to English texts are encoded using the ASCII standard. Each ASCII character has a corresponding number between 0 and 127 associated with it, and we can take advantage of that to build a function that checks an app name and tells us whether it contains non-ASCII characters.\n",
    "\n",
    "We built this function below, and we use the built-in `ord()` function to find out the corresponding encoding number of each character."
   ]
  },
  {
   "cell_type": "code",
   "execution_count": 14,
   "id": "1ace929d",
   "metadata": {},
   "outputs": [],
   "source": [
    "def english_character(string):\n",
    "    \n",
    "    for character in string:\n",
    "        if ord(character)>127:\n",
    "            return False\n",
    "        \n",
    "    return True"
   ]
  },
  {
   "cell_type": "markdown",
   "id": "03548915",
   "metadata": {},
   "source": [
    "##### Trial: use the function to check the following app names"
   ]
  },
  {
   "cell_type": "code",
   "execution_count": 15,
   "id": "4e599443",
   "metadata": {
    "scrolled": true
   },
   "outputs": [
    {
     "name": "stdout",
     "output_type": "stream",
     "text": [
      "True\n",
      "False\n",
      "False\n",
      "False\n"
     ]
    }
   ],
   "source": [
    "print(english_character('Instagram'))\n",
    "print(english_character('爱奇艺PPS -《欢乐颂2》电视剧热播'))\n",
    "print(english_character('Docs To Go™ Free Office Suite'))\n",
    "print(english_character('Instachat 😜'))"
   ]
  },
  {
   "cell_type": "markdown",
   "id": "b7e4aa9f",
   "metadata": {},
   "source": [
    "As in the trial example above, the function coundn't correctly identify certain English App names that contain emojis or special characters like™. \n",
    "\n",
    "To minimize the impact of data loss, we modify the function to remove an app only if its name has more than threee non-ASCII characters."
   ]
  },
  {
   "cell_type": "code",
   "execution_count": 16,
   "id": "599d9d1e",
   "metadata": {},
   "outputs": [],
   "source": [
    "def english_character(string):\n",
    "    i=0\n",
    "    \n",
    "    for character in string:\n",
    "        if ord(character)>127:\n",
    "            i+=1\n",
    "            \n",
    "    if i>=3:\n",
    "        return False\n",
    "    else:\n",
    "        return True"
   ]
  },
  {
   "cell_type": "markdown",
   "id": "92da5539",
   "metadata": {},
   "source": [
    "##### Trial: use the function to check the following app names"
   ]
  },
  {
   "cell_type": "code",
   "execution_count": 17,
   "id": "9060385d",
   "metadata": {},
   "outputs": [
    {
     "name": "stdout",
     "output_type": "stream",
     "text": [
      "True\n",
      "False\n",
      "True\n",
      "True\n"
     ]
    }
   ],
   "source": [
    "print(english_character('Instagram'))\n",
    "print(english_character('爱奇艺PPS -《欢乐颂2》电视剧热播'))\n",
    "print(english_character('Docs To Go™ Free Office Suite'))\n",
    "print(english_character('Instachat 😜'))"
   ]
  },
  {
   "cell_type": "markdown",
   "id": "a6c6cf45",
   "metadata": {},
   "source": [
    "Although the function is still not perfect, and very few non-English apps might still get past our filter, we'll take it as good enough at this point in our analysis, as in the above cell output. "
   ]
  },
  {
   "cell_type": "markdown",
   "id": "c1248837",
   "metadata": {},
   "source": [
    "#### 2.3.2 Filter out non-English apps from both datasets"
   ]
  },
  {
   "cell_type": "markdown",
   "id": "0a6dd07b",
   "metadata": {},
   "source": [
    "Next, we use the `english_character()` function to filter out the non-English apps for both datasets:"
   ]
  },
  {
   "cell_type": "code",
   "execution_count": 18,
   "id": "cdb37d7c",
   "metadata": {},
   "outputs": [
    {
     "name": "stdout",
     "output_type": "stream",
     "text": [
      "['284882215', 'Facebook', '389879808', 'USD', '0.0', '2974676', '212', '3.5', '3.5', '95.0', '4+', 'Social Networking', '37', '1', '29', '1']\n",
      "\n",
      "\n",
      "['389801252', 'Instagram', '113954816', 'USD', '0.0', '2161558', '1289', '4.5', '4.0', '10.23', '12+', 'Photo & Video', '37', '0', '29', '1']\n",
      "\n",
      "\n",
      "['529479190', 'Clash of Clans', '116476928', 'USD', '0.0', '2130805', '579', '4.5', '4.5', '9.24.12', '9+', 'Games', '38', '5', '18', '1']\n",
      "\n",
      "\n",
      "['420009108', 'Temple Run', '65921024', 'USD', '0.0', '1724546', '3842', '4.5', '4.0', '1.6.2', '9+', 'Games', '40', '5', '1', '1']\n",
      "\n",
      "\n",
      "Number of rows: 6155\n",
      "Number of columns: 16\n",
      "\n",
      "\n",
      "['Photo Editor & Candy Camera & Grid & ScrapBook', 'ART_AND_DESIGN', '4.1', '159', '19M', '10,000+', 'Free', '0', 'Everyone', 'Art & Design', 'January 7, 2018', '1.0.0', '4.0.3 and up']\n",
      "\n",
      "\n",
      "['U Launcher Lite – FREE Live Cool Themes, Hide Apps', 'ART_AND_DESIGN', '4.7', '87510', '8.7M', '5,000,000+', 'Free', '0', 'Everyone', 'Art & Design', 'August 1, 2018', '1.2.4', '4.0.3 and up']\n",
      "\n",
      "\n",
      "['Sketch - Draw & Paint', 'ART_AND_DESIGN', '4.5', '215644', '25M', '50,000,000+', 'Free', '0', 'Teen', 'Art & Design', 'June 8, 2018', 'Varies with device', '4.2 and up']\n",
      "\n",
      "\n",
      "['Pixel Draw - Number Art Coloring Book', 'ART_AND_DESIGN', '4.3', '967', '2.8M', '100,000+', 'Free', '0', 'Everyone', 'Art & Design;Creativity', 'June 20, 2018', '1.1', '4.4 and up']\n",
      "\n",
      "\n",
      "Number of rows: 9597\n",
      "Number of columns: 13\n"
     ]
    }
   ],
   "source": [
    "ios_english=[]\n",
    "\n",
    "for app in ios:\n",
    "    name=app[1]\n",
    "    if english_character(name):\n",
    "        ios_english.append(app)\n",
    "\n",
    "android_english=[]\n",
    "\n",
    "for app in android_clean:\n",
    "    name=app[0]\n",
    "    if english_character(name):\n",
    "        android_english.append(app)\n",
    "\n",
    "explore_data(ios_english,0,4,True)\n",
    "print('\\n')\n",
    "explore_data(android_english,0,4,True)"
   ]
  },
  {
   "cell_type": "markdown",
   "id": "f0b3ead0",
   "metadata": {},
   "source": [
    "After filtering, we derive the two datasets `ios_english` and `android_english`, with 5707 remaining entries in the ios dataset, and 9117 remaining entries in the android dataset. "
   ]
  },
  {
   "cell_type": "markdown",
   "id": "e3537f54",
   "metadata": {},
   "source": [
    "### 2.4 Isolating the Free Apps"
   ]
  },
  {
   "cell_type": "markdown",
   "id": "2f8d5a5c",
   "metadata": {},
   "source": [
    "As we mentioned in the introduction, we only build apps that are free to download and install. Therefore, we need to isolate only the free apps for our analysis for the next step. "
   ]
  },
  {
   "cell_type": "code",
   "execution_count": 19,
   "id": "287b5d83",
   "metadata": {},
   "outputs": [
    {
     "name": "stdout",
     "output_type": "stream",
     "text": [
      "['284882215', 'Facebook', '389879808', 'USD', '0.0', '2974676', '212', '3.5', '3.5', '95.0', '4+', 'Social Networking', '37', '1', '29', '1']\n",
      "\n",
      "\n",
      "['389801252', 'Instagram', '113954816', 'USD', '0.0', '2161558', '1289', '4.5', '4.0', '10.23', '12+', 'Photo & Video', '37', '0', '29', '1']\n",
      "\n",
      "\n",
      "['529479190', 'Clash of Clans', '116476928', 'USD', '0.0', '2130805', '579', '4.5', '4.5', '9.24.12', '9+', 'Games', '38', '5', '18', '1']\n",
      "\n",
      "\n",
      "['420009108', 'Temple Run', '65921024', 'USD', '0.0', '1724546', '3842', '4.5', '4.0', '1.6.2', '9+', 'Games', '40', '5', '1', '1']\n",
      "\n",
      "\n",
      "['284035177', 'Pandora - Music & Radio', '130242560', 'USD', '0.0', '1126879', '3594', '4.0', '4.5', '8.4.1', '12+', 'Music', '37', '4', '1', '1']\n",
      "\n",
      "\n",
      "['429047995', 'Pinterest', '74778624', 'USD', '0.0', '1061624', '1814', '4.5', '4.0', '6.26', '12+', 'Social Networking', '37', '5', '27', '1']\n",
      "\n",
      "\n",
      "['282935706', 'Bible', '92774400', 'USD', '0.0', '985920', '5320', '4.5', '5.0', '7.5.1', '4+', 'Reference', '37', '5', '45', '1']\n",
      "\n",
      "\n",
      "['553834731', 'Candy Crush Saga', '222846976', 'USD', '0.0', '961794', '2453', '4.5', '4.5', '1.101.0', '4+', 'Games', '43', '5', '24', '1']\n",
      "\n",
      "\n",
      "['324684580', 'Spotify Music', '132510720', 'USD', '0.0', '878563', '8253', '4.5', '4.5', '8.4.3', '12+', 'Music', '37', '5', '18', '1']\n",
      "\n",
      "\n",
      "['343200656', 'Angry Birds', '175966208', 'USD', '0.0', '824451', '107', '4.5', '3.0', '7.4.0', '4+', 'Games', '38', '0', '10', '1']\n",
      "\n",
      "\n",
      "Number of rows: 3203\n",
      "Number of columns: 16\n"
     ]
    }
   ],
   "source": [
    "### for the ios dataset ###\n",
    "\n",
    "ios_free=[]\n",
    "\n",
    "for app in ios_english:\n",
    "    price=app[4]\n",
    "    if price=='0.0':\n",
    "        ios_free.append(app)\n",
    "    \n",
    "explore_data(ios_free,0,10,True)"
   ]
  },
  {
   "cell_type": "code",
   "execution_count": 20,
   "id": "dfd95852",
   "metadata": {},
   "outputs": [
    {
     "name": "stdout",
     "output_type": "stream",
     "text": [
      "['Photo Editor & Candy Camera & Grid & ScrapBook', 'ART_AND_DESIGN', '4.1', '159', '19M', '10,000+', 'Free', '0', 'Everyone', 'Art & Design', 'January 7, 2018', '1.0.0', '4.0.3 and up']\n",
      "\n",
      "\n",
      "['U Launcher Lite – FREE Live Cool Themes, Hide Apps', 'ART_AND_DESIGN', '4.7', '87510', '8.7M', '5,000,000+', 'Free', '0', 'Everyone', 'Art & Design', 'August 1, 2018', '1.2.4', '4.0.3 and up']\n",
      "\n",
      "\n",
      "['Sketch - Draw & Paint', 'ART_AND_DESIGN', '4.5', '215644', '25M', '50,000,000+', 'Free', '0', 'Teen', 'Art & Design', 'June 8, 2018', 'Varies with device', '4.2 and up']\n",
      "\n",
      "\n",
      "['Pixel Draw - Number Art Coloring Book', 'ART_AND_DESIGN', '4.3', '967', '2.8M', '100,000+', 'Free', '0', 'Everyone', 'Art & Design;Creativity', 'June 20, 2018', '1.1', '4.4 and up']\n",
      "\n",
      "\n",
      "['Paper flowers instructions', 'ART_AND_DESIGN', '4.4', '167', '5.6M', '50,000+', 'Free', '0', 'Everyone', 'Art & Design', 'March 26, 2017', '1.0', '2.3 and up']\n",
      "\n",
      "\n",
      "['Smoke Effect Photo Maker - Smoke Editor', 'ART_AND_DESIGN', '3.8', '178', '19M', '50,000+', 'Free', '0', 'Everyone', 'Art & Design', 'April 26, 2018', '1.1', '4.0.3 and up']\n",
      "\n",
      "\n",
      "['Infinite Painter', 'ART_AND_DESIGN', '4.1', '36815', '29M', '1,000,000+', 'Free', '0', 'Everyone', 'Art & Design', 'June 14, 2018', '6.1.61.1', '4.2 and up']\n",
      "\n",
      "\n",
      "['Garden Coloring Book', 'ART_AND_DESIGN', '4.4', '13791', '33M', '1,000,000+', 'Free', '0', 'Everyone', 'Art & Design', 'September 20, 2017', '2.9.2', '3.0 and up']\n",
      "\n",
      "\n",
      "['Kids Paint Free - Drawing Fun', 'ART_AND_DESIGN', '4.7', '121', '3.1M', '10,000+', 'Free', '0', 'Everyone', 'Art & Design;Creativity', 'July 3, 2018', '2.8', '4.0.3 and up']\n",
      "\n",
      "\n",
      "['Text on Photo - Fonteee', 'ART_AND_DESIGN', '4.4', '13880', '28M', '1,000,000+', 'Free', '0', 'Everyone', 'Art & Design', 'October 27, 2017', '1.0.4', '4.1 and up']\n",
      "\n",
      "\n",
      "Number of rows: 8848\n",
      "Number of columns: 13\n"
     ]
    }
   ],
   "source": [
    "### for the android dataset ###\n",
    "\n",
    "android_free=[]\n",
    "\n",
    "for app in android_english:\n",
    "    price=app[7]\n",
    "    if price=='0':\n",
    "        android_free.append(app)\n",
    "    \n",
    "explore_data(android_free,0,10,True)"
   ]
  },
  {
   "cell_type": "markdown",
   "id": "6535128c",
   "metadata": {},
   "source": [
    "After removing the paid apps, we are left with the `ios_free` dataset with 2922 entries, and the `android_free` dataset with 9488 entries."
   ]
  },
  {
   "cell_type": "markdown",
   "id": "7db45019",
   "metadata": {},
   "source": [
    "## 3. Determining Most Common Apps by Genre"
   ]
  },
  {
   "cell_type": "markdown",
   "id": "3f96868b",
   "metadata": {},
   "source": [
    "As we mentioned in the introduction, our goal is to determine the kinds of apps that are likely to attract more users because the number of people using our apps affect our revenue.\n",
    "\n",
    "To minimize risks and overhead, our validation strategy for an app idea has three steps:\n",
    "\n",
    "1. Build a minimal Android version of the app, and add it to Google Play.\n",
    "2. If the app has a good response from users, we develop it further.\n",
    "3. If the app is profitable after six months, we build an iOS version of the app and add it to the App Store.\n",
    "\n",
    "Because our end goal is to add the app on both Google Play and the App Store, we need to find app profiles that are successful in both markets. \n",
    "\n",
    "We begin the analysis by getting a sense of the most common genres for each market. For this, we'll build a frequency table for the `prime_genre` column of the App Store data set, and the `Genres` and `Category` columns of the Google Play data set."
   ]
  },
  {
   "cell_type": "markdown",
   "id": "7f06d48e",
   "metadata": {},
   "source": [
    "### 3.1 Build a Frequency Table of Genres"
   ]
  },
  {
   "cell_type": "markdown",
   "id": "ad630c35",
   "metadata": {},
   "source": [
    "We'll build two functions we can use to analyze the frequency tables:\n",
    "- One function `freq_table()` to generate frequency tables that show percentages\n",
    "- Another function `display_table()` that we can use to display the percentages in a descending order"
   ]
  },
  {
   "cell_type": "code",
   "execution_count": 21,
   "id": "f0995e9e",
   "metadata": {},
   "outputs": [],
   "source": [
    "def freq_table(dataset,index):\n",
    "    column=[]\n",
    "    for app in dataset:\n",
    "        column.append(app[index])\n",
    "\n",
    "    dic={}\n",
    "    total=0\n",
    "   \n",
    "    for item in column:\n",
    "        total+=1\n",
    "        if item in dic:\n",
    "            dic[item]+=1\n",
    "        else:\n",
    "            dic[item]=1\n",
    "    \n",
    "    dic_percentage={}\n",
    "    for item in column:\n",
    "        dic_percentage[item]=dic[item]/total\n",
    "    return dic_percentage\n"
   ]
  },
  {
   "cell_type": "code",
   "execution_count": 22,
   "id": "6b1c1a8d",
   "metadata": {},
   "outputs": [],
   "source": [
    "def display_table(dataset, index):\n",
    "    table = freq_table(dataset, index)\n",
    "    table_display = []\n",
    "    for key in table:\n",
    "        key_val_as_tuple = (table[key], key)\n",
    "        table_display.append(key_val_as_tuple)\n",
    "\n",
    "    table_sorted = sorted(table_display, reverse = True)\n",
    "    for entry in table_sorted:\n",
    "        print(entry[1], ':', entry[0])"
   ]
  },
  {
   "cell_type": "markdown",
   "id": "09a5148c",
   "metadata": {},
   "source": [
    "Next, we start by examining the frequency table for the prime_genre column of the App Store data set:"
   ]
  },
  {
   "cell_type": "code",
   "execution_count": 23,
   "id": "35005f95",
   "metadata": {},
   "outputs": [
    {
     "name": "stdout",
     "output_type": "stream",
     "text": [
      "Games : 0.5825788323446769\n",
      "Entertainment : 0.07836403371838901\n",
      "Photo & Video : 0.049953168904152356\n",
      "Education : 0.036840462066812366\n",
      "Social Networking : 0.033093974399000935\n",
      "Shopping : 0.025913206369029034\n",
      "Utilities : 0.024664377146425227\n",
      "Sports : 0.021542304089915705\n",
      "Music : 0.020605682172962846\n",
      "Health & Fitness : 0.020293474867311895\n",
      "Productivity : 0.017483609116453323\n",
      "Lifestyle : 0.015610365282547611\n",
      "News : 0.013424914142990947\n",
      "Travel : 0.012488292226038089\n",
      "Finance : 0.010927255697783328\n",
      "Weather : 0.008741804558226662\n",
      "Food & Drink : 0.008117389946924758\n",
      "Reference : 0.005307524196066188\n",
      "Business : 0.005307524196066188\n",
      "Book : 0.003746487667811427\n",
      "Navigation : 0.0018732438339057135\n",
      "Medical : 0.0018732438339057135\n",
      "Catalogs : 0.001248829222603809\n"
     ]
    }
   ],
   "source": [
    "display_table(ios_free, 11)"
   ]
  },
  {
   "cell_type": "markdown",
   "id": "6db39555",
   "metadata": {},
   "source": [
    "#### Comment:"
   ]
  },
  {
   "cell_type": "markdown",
   "id": "deda8844",
   "metadata": {},
   "source": [
    "From the output of the above cell, we can see that among all free English apps, more than half (58.26%) are `Games`. The next most common genre is `Entertainment`(7.83%), followed by `Photo & Video` apps (5.00%).\n",
    "\n",
    "\n",
    "In general, we have the observation that **App Store is basically dominated by apps that are designed for fun** (games, entertainment, photos & videos, etc.), while apps with practical purposes (education, shopping, utilities, productivity, lifestyle, etc.) are more rare. \n",
    "\n",
    "However, the fact that fun apps are the most numerous doesn't also imply that they also have the greatest number of users — the demand might not be the same as the offer."
   ]
  },
  {
   "cell_type": "markdown",
   "id": "e9a114ba",
   "metadata": {},
   "source": [
    "Next, we continue to explore the `Genres` and `Category` columns of the Google Play dataset (two columns which seem to be related):"
   ]
  },
  {
   "cell_type": "code",
   "execution_count": 24,
   "id": "7ba73b4f",
   "metadata": {},
   "outputs": [
    {
     "name": "stdout",
     "output_type": "stream",
     "text": [
      "Tools : 0.08442585895117541\n",
      "Entertainment : 0.06080470162748644\n",
      "Education : 0.05357142857142857\n",
      "Business : 0.04599909584086799\n",
      "Productivity : 0.03899186256781193\n",
      "Lifestyle : 0.038765822784810125\n",
      "Finance : 0.037070524412296565\n",
      "Medical : 0.035375226039783\n",
      "Sports : 0.03458408679927667\n",
      "Personalization : 0.03322784810126582\n",
      "Communication : 0.032323688969258586\n",
      "Action : 0.03096745027124774\n",
      "Health & Fitness : 0.030854430379746837\n",
      "Photography : 0.029498191681735987\n",
      "News & Magazines : 0.02802893309222423\n",
      "Social : 0.02667269439421338\n",
      "Travel & Local : 0.02328209764918626\n",
      "Shopping : 0.02249095840867993\n",
      "Books & Reference : 0.021360759493670885\n",
      "Simulation : 0.020456600361663652\n",
      "Dating : 0.018648282097649186\n",
      "Arcade : 0.01842224231464738\n",
      "Video Players & Editors : 0.017744122965641953\n",
      "Casual : 0.01763110307414105\n",
      "Maps & Navigation : 0.013901446654611212\n",
      "Food & Drink : 0.012432188065099457\n",
      "Puzzle : 0.011301989150090416\n",
      "Racing : 0.009945750452079566\n",
      "Role Playing : 0.009380650994575045\n",
      "Libraries & Demo : 0.009380650994575045\n",
      "Auto & Vehicles : 0.009267631103074141\n",
      "Strategy : 0.009154611211573236\n",
      "House & Home : 0.008024412296564195\n",
      "Weather : 0.007911392405063292\n",
      "Events : 0.007120253164556962\n",
      "Adventure : 0.006668173598553345\n",
      "Comics : 0.00599005424954792\n",
      "Beauty : 0.00599005424954792\n",
      "Art & Design : 0.00599005424954792\n",
      "Parenting : 0.004972875226039783\n",
      "Card : 0.0045207956600361665\n",
      "Trivia : 0.004181735985533454\n",
      "Casino : 0.004181735985533454\n",
      "Educational;Education : 0.003955696202531646\n",
      "Board : 0.0038426763110307413\n",
      "Educational : 0.003729656419529837\n",
      "Education;Education : 0.0033905967450271247\n",
      "Word : 0.0025994575045207957\n",
      "Casual;Pretend Play : 0.0023734177215189874\n",
      "Music : 0.002034358047016275\n",
      "Racing;Action & Adventure : 0.0016952983725135623\n",
      "Puzzle;Brain Games : 0.0016952983725135623\n",
      "Entertainment;Music & Video : 0.0016952983725135623\n",
      "Casual;Brain Games : 0.00135623869801085\n",
      "Casual;Action & Adventure : 0.00135623869801085\n",
      "Arcade;Action & Adventure : 0.0012432188065099458\n",
      "Action;Action & Adventure : 0.0010171790235081375\n",
      "Educational;Pretend Play : 0.0009041591320072332\n",
      "Simulation;Action & Adventure : 0.0007911392405063291\n",
      "Parenting;Education : 0.0007911392405063291\n",
      "Entertainment;Brain Games : 0.0007911392405063291\n",
      "Board;Brain Games : 0.0007911392405063291\n",
      "Parenting;Music & Video : 0.000678119349005425\n",
      "Educational;Brain Games : 0.000678119349005425\n",
      "Casual;Creativity : 0.000678119349005425\n",
      "Art & Design;Creativity : 0.000678119349005425\n",
      "Education;Pretend Play : 0.0005650994575045208\n",
      "Role Playing;Pretend Play : 0.0004520795660036166\n",
      "Education;Creativity : 0.0004520795660036166\n",
      "Role Playing;Action & Adventure : 0.0003390596745027125\n",
      "Puzzle;Action & Adventure : 0.0003390596745027125\n",
      "Entertainment;Creativity : 0.0003390596745027125\n",
      "Entertainment;Action & Adventure : 0.0003390596745027125\n",
      "Educational;Creativity : 0.0003390596745027125\n",
      "Educational;Action & Adventure : 0.0003390596745027125\n",
      "Education;Music & Video : 0.0003390596745027125\n",
      "Education;Brain Games : 0.0003390596745027125\n",
      "Education;Action & Adventure : 0.0003390596745027125\n",
      "Adventure;Action & Adventure : 0.0003390596745027125\n",
      "Video Players & Editors;Music & Video : 0.0002260397830018083\n",
      "Sports;Action & Adventure : 0.0002260397830018083\n",
      "Simulation;Pretend Play : 0.0002260397830018083\n",
      "Puzzle;Creativity : 0.0002260397830018083\n",
      "Music;Music & Video : 0.0002260397830018083\n",
      "Entertainment;Pretend Play : 0.0002260397830018083\n",
      "Casual;Education : 0.0002260397830018083\n",
      "Board;Action & Adventure : 0.0002260397830018083\n",
      "Video Players & Editors;Creativity : 0.00011301989150090416\n",
      "Trivia;Education : 0.00011301989150090416\n",
      "Travel & Local;Action & Adventure : 0.00011301989150090416\n",
      "Tools;Education : 0.00011301989150090416\n",
      "Strategy;Education : 0.00011301989150090416\n",
      "Strategy;Creativity : 0.00011301989150090416\n",
      "Strategy;Action & Adventure : 0.00011301989150090416\n",
      "Simulation;Education : 0.00011301989150090416\n",
      "Role Playing;Brain Games : 0.00011301989150090416\n",
      "Racing;Pretend Play : 0.00011301989150090416\n",
      "Puzzle;Education : 0.00011301989150090416\n",
      "Parenting;Brain Games : 0.00011301989150090416\n",
      "Music & Audio;Music & Video : 0.00011301989150090416\n",
      "Lifestyle;Pretend Play : 0.00011301989150090416\n",
      "Lifestyle;Education : 0.00011301989150090416\n",
      "Health & Fitness;Education : 0.00011301989150090416\n",
      "Health & Fitness;Action & Adventure : 0.00011301989150090416\n",
      "Entertainment;Education : 0.00011301989150090416\n",
      "Communication;Creativity : 0.00011301989150090416\n",
      "Comics;Creativity : 0.00011301989150090416\n",
      "Casual;Music & Video : 0.00011301989150090416\n",
      "Card;Action & Adventure : 0.00011301989150090416\n",
      "Books & Reference;Education : 0.00011301989150090416\n",
      "Art & Design;Pretend Play : 0.00011301989150090416\n",
      "Art & Design;Action & Adventure : 0.00011301989150090416\n",
      "Arcade;Pretend Play : 0.00011301989150090416\n",
      "Adventure;Education : 0.00011301989150090416\n"
     ]
    }
   ],
   "source": [
    "### frequency table for Genres in android dataset ###\n",
    "display_table(android_free,9)"
   ]
  },
  {
   "cell_type": "code",
   "execution_count": 25,
   "id": "ff43b196",
   "metadata": {
    "scrolled": true
   },
   "outputs": [
    {
     "name": "stdout",
     "output_type": "stream",
     "text": [
      "FAMILY : 0.18942133815551537\n",
      "GAME : 0.09697106690777577\n",
      "TOOLS : 0.08453887884267632\n",
      "BUSINESS : 0.04599909584086799\n",
      "PRODUCTIVITY : 0.03899186256781193\n",
      "LIFESTYLE : 0.03887884267631103\n",
      "FINANCE : 0.037070524412296565\n",
      "MEDICAL : 0.035375226039783\n",
      "SPORTS : 0.033905967450271246\n",
      "PERSONALIZATION : 0.03322784810126582\n",
      "COMMUNICATION : 0.032323688969258586\n",
      "HEALTH_AND_FITNESS : 0.030854430379746837\n",
      "PHOTOGRAPHY : 0.029498191681735987\n",
      "NEWS_AND_MAGAZINES : 0.02802893309222423\n",
      "SOCIAL : 0.02667269439421338\n",
      "TRAVEL_AND_LOCAL : 0.02339511754068716\n",
      "SHOPPING : 0.02249095840867993\n",
      "BOOKS_AND_REFERENCE : 0.021360759493670885\n",
      "DATING : 0.018648282097649186\n",
      "VIDEO_PLAYERS : 0.017970162748643763\n",
      "MAPS_AND_NAVIGATION : 0.013901446654611212\n",
      "FOOD_AND_DRINK : 0.012432188065099457\n",
      "EDUCATION : 0.01164104882459313\n",
      "ENTERTAINMENT : 0.009606690777576853\n",
      "LIBRARIES_AND_DEMO : 0.009380650994575045\n",
      "AUTO_AND_VEHICLES : 0.009267631103074141\n",
      "HOUSE_AND_HOME : 0.008024412296564195\n",
      "WEATHER : 0.007911392405063292\n",
      "EVENTS : 0.007120253164556962\n",
      "PARENTING : 0.006555153707052441\n",
      "ART_AND_DESIGN : 0.006442133815551537\n",
      "COMICS : 0.0061030741410488245\n",
      "BEAUTY : 0.00599005424954792\n"
     ]
    }
   ],
   "source": [
    "### frequency table for Category in android dataset ###\n",
    "display_table(android_free,1)"
   ]
  },
  {
   "cell_type": "markdown",
   "id": "42fd3773",
   "metadata": {},
   "source": [
    "#### Comment:"
   ]
  },
  {
   "cell_type": "markdown",
   "id": "471b74b7",
   "metadata": {},
   "source": [
    "From the output of the `Genres` column, the most common genre in the Google Play Store is `Tools` (8.44%), while the next most common is `Entertainment`(6.08%). \n",
    "\n",
    "From the output of the `Category` column, the most common category is `Family`(18.94%), followed by `Game`(9.70%) and `Tools`(8.45%).\n",
    "\n",
    "It seems that things are a bit different for the Google Play store: there are not that many apps designed for fun, and it seems that a good number of apps are designed for practical purposes (family, tools, business, lifestyle, productivity, etc.). However, if we investigate this further, we can see that the family category (which accounts for almost 19% of the apps) means mostly games for kids.\n",
    "\n",
    "Still, practical apps seem to have a better representation on Google Play compared to App Store. "
   ]
  },
  {
   "cell_type": "markdown",
   "id": "530af26d",
   "metadata": {},
   "source": [
    "Up to this point, we found that the App Store is dominated by apps designed for fun, while Google Play shows a more balanced landscape of both practical and for-fun apps. Now we'd like to get an idea about the kind of apps that have most users."
   ]
  },
  {
   "cell_type": "markdown",
   "id": "c42eeec4",
   "metadata": {},
   "source": [
    "### 3.2 Measuring Popularity –– the Average Number of Installs for each App"
   ]
  },
  {
   "cell_type": "markdown",
   "id": "690387fc",
   "metadata": {},
   "source": [
    "The average number of installs/ user ratings can be used as an approximation of the popularity of an app.\n",
    "\n",
    "For the Google Play data set, we can find this information in the `Installs` column, but this information is missing for the App Store data set. As a workaround, we'll take the total number of user ratings as a proxy, which we can find in the `rating_count_tot` column."
   ]
  },
  {
   "cell_type": "markdown",
   "id": "cec9eff6",
   "metadata": {},
   "source": [
    "#### For App Store:"
   ]
  },
  {
   "cell_type": "markdown",
   "id": "61455f76",
   "metadata": {},
   "source": [
    "Getting the frequency table of the `rating_count_tot` column:"
   ]
  },
  {
   "cell_type": "code",
   "execution_count": 26,
   "id": "dd75eb54",
   "metadata": {},
   "outputs": [],
   "source": [
    "ios_prime_genre=freq_table(ios_free,11)"
   ]
  },
  {
   "cell_type": "markdown",
   "id": "06b8de69",
   "metadata": {},
   "source": [
    "Calculating the average `rating_count_tot` numbers per `Genres`:"
   ]
  },
  {
   "cell_type": "code",
   "execution_count": 27,
   "id": "12de5a47",
   "metadata": {},
   "outputs": [
    {
     "name": "stdout",
     "output_type": "stream",
     "text": [
      "Social Networking : 71548.34905660378\n",
      "Photo & Video : 28441.54375\n",
      "Games : 22886.36709539121\n",
      "Music : 57326.530303030304\n",
      "Reference : 79350.4705882353\n",
      "Health & Fitness : 23298.015384615384\n",
      "Weather : 52279.892857142855\n",
      "Utilities : 19156.493670886077\n",
      "Travel : 28243.8\n",
      "Shopping : 27230.734939759037\n",
      "News : 21248.023255813954\n",
      "Navigation : 86090.33333333333\n",
      "Lifestyle : 16815.48\n",
      "Entertainment : 14195.358565737051\n",
      "Food & Drink : 33333.92307692308\n",
      "Sports : 23008.898550724636\n",
      "Book : 46384.916666666664\n",
      "Finance : 32367.02857142857\n",
      "Education : 7003.983050847458\n",
      "Productivity : 21028.410714285714\n",
      "Business : 7491.117647058823\n",
      "Catalogs : 4004.0\n",
      "Medical : 612.0\n"
     ]
    }
   ],
   "source": [
    "average_user_ratings_dic={}\n",
    "\n",
    "for genre in ios_prime_genre:\n",
    "    total=0\n",
    "    len_genre=0\n",
    "    \n",
    "    for item in ios_free:\n",
    "        genre_app=item[11]\n",
    "        \n",
    "        if genre_app==genre:\n",
    "            number_of_ratings=float(item[5])\n",
    "            total+=number_of_ratings\n",
    "            len_genre+=1\n",
    "            \n",
    "    average_user_ratings=total/len_genre\n",
    "    average_user_ratings_dic[genre]=average_user_ratings\n",
    "    print(genre,':',average_user_ratings)"
   ]
  },
  {
   "cell_type": "markdown",
   "id": "a9728aa7",
   "metadata": {},
   "source": [
    "Next, we create a function to sort the dictionary, so as to see which genre has the highest average number of user ratings, thus being the most popular:"
   ]
  },
  {
   "cell_type": "code",
   "execution_count": 28,
   "id": "21ed098c",
   "metadata": {},
   "outputs": [],
   "source": [
    "def display_table_2(table):\n",
    "    table_display = []\n",
    "    for key in table:\n",
    "        key_val_as_tuple = (table[key], key)\n",
    "        table_display.append(key_val_as_tuple)\n",
    "\n",
    "    table_sorted = sorted(table_display, reverse = True)\n",
    "    for entry in table_sorted:\n",
    "        print(entry[1], ':', entry[0])"
   ]
  },
  {
   "cell_type": "markdown",
   "id": "8492148f",
   "metadata": {},
   "source": [
    "Sort the `average_user_ratings_dic` with the `display_table_2()` function just created above:"
   ]
  },
  {
   "cell_type": "code",
   "execution_count": 29,
   "id": "347f5373",
   "metadata": {},
   "outputs": [
    {
     "name": "stdout",
     "output_type": "stream",
     "text": [
      "Navigation : 86090.33333333333\n",
      "Reference : 79350.4705882353\n",
      "Social Networking : 71548.34905660378\n",
      "Music : 57326.530303030304\n",
      "Weather : 52279.892857142855\n",
      "Book : 46384.916666666664\n",
      "Food & Drink : 33333.92307692308\n",
      "Finance : 32367.02857142857\n",
      "Photo & Video : 28441.54375\n",
      "Travel : 28243.8\n",
      "Shopping : 27230.734939759037\n",
      "Health & Fitness : 23298.015384615384\n",
      "Sports : 23008.898550724636\n",
      "Games : 22886.36709539121\n",
      "News : 21248.023255813954\n",
      "Productivity : 21028.410714285714\n",
      "Utilities : 19156.493670886077\n",
      "Lifestyle : 16815.48\n",
      "Entertainment : 14195.358565737051\n",
      "Business : 7491.117647058823\n",
      "Education : 7003.983050847458\n",
      "Catalogs : 4004.0\n",
      "Medical : 612.0\n"
     ]
    }
   ],
   "source": [
    "display_table_2(average_user_ratings_dic)"
   ]
  },
  {
   "cell_type": "markdown",
   "id": "f3600da7",
   "metadata": {},
   "source": [
    "From the output of the above cell, we can tell that in the App Store,  **Navigation** apps have the highest number of user reviews, with **Reference** and **Social Networking** following."
   ]
  },
  {
   "cell_type": "markdown",
   "id": "cbdb938f",
   "metadata": {},
   "source": [
    "But taking a closer look, we find that this figure is heavily influenced by Waze and Google Maps, which have close to half a million user reviews together:"
   ]
  },
  {
   "cell_type": "code",
   "execution_count": 30,
   "id": "1c638bf3",
   "metadata": {},
   "outputs": [
    {
     "name": "stdout",
     "output_type": "stream",
     "text": [
      "Waze - GPS Navigation, Maps & Real-time Traffic : 345046\n",
      "Google Maps - Navigation & Transit : 154911\n",
      "Geocaching® : 12811\n",
      "CoPilot GPS – Car Navigation & Offline Maps : 3582\n",
      "ImmobilienScout24: Real Estate Search in Germany : 187\n",
      "Railway Route Search : 5\n"
     ]
    }
   ],
   "source": [
    "for app in ios_free:\n",
    "    genre=app[11]\n",
    "    if genre == 'Navigation':\n",
    "        name=app[1]\n",
    "        rating_count=app[5]\n",
    "        print(name, ':', rating_count) # print name and number of ratings"
   ]
  },
  {
   "cell_type": "markdown",
   "id": "bb4066aa",
   "metadata": {},
   "source": [
    "It's similar for the `Reference` genre, where the Bible and Dictionary.com skewed up the average rating:"
   ]
  },
  {
   "cell_type": "code",
   "execution_count": 31,
   "id": "a58d7cd3",
   "metadata": {},
   "outputs": [
    {
     "name": "stdout",
     "output_type": "stream",
     "text": [
      "Bible : 985920\n",
      "Dictionary.com Dictionary & Thesaurus : 200047\n",
      "Dictionary.com Dictionary & Thesaurus for iPad : 54175\n",
      "Google Translate : 26786\n",
      "Muslim Pro: Ramadan 2017 Prayer Times, Azan, Quran : 18418\n",
      "New Furniture Mods - Pocket Wiki & Game Tools for Minecraft PC Edition : 17588\n",
      "Merriam-Webster Dictionary : 16849\n",
      "Night Sky : 12122\n",
      "City Maps for Minecraft PE - The Best Maps for Minecraft Pocket Edition (MCPE) : 8535\n",
      "LUCKY BLOCK MOD ™ for Minecraft PC Edition - The Best Pocket Wiki & Mods Installer Tools : 4693\n",
      "GUNS MODS for Minecraft PC Edition - Mods Tools : 1497\n",
      "Guides for Pokémon GO - Pokemon GO News and Cheats : 826\n",
      "WWDC : 762\n",
      "Horror Maps for Minecraft PE - Download The Scariest Maps for Minecraft Pocket Edition (MCPE) Free : 718\n",
      "VPN Express : 14\n",
      "Real Bike Traffic Rider Virtual Reality Glasses : 8\n",
      "Jishokun-Japanese English Dictionary & Translator : 0\n"
     ]
    }
   ],
   "source": [
    "for app in ios_free:\n",
    "    genre=app[11]\n",
    "    if genre == 'Reference':\n",
    "        name=app[1]\n",
    "        rating_count=app[5]\n",
    "        print(name, ':', rating_count) # print name and number of ratings"
   ]
  },
  {
   "cell_type": "markdown",
   "id": "313447a2",
   "metadata": {},
   "source": [
    "While we found out the several most popular genres, we also noticed that the average number of ratings seem to be skewed by very few apps which have hundreds of thousands of user ratings, while the other apps may struggle to get past the 10,000 threshold."
   ]
  },
  {
   "cell_type": "markdown",
   "id": "fe8a0f62",
   "metadata": {},
   "source": [
    "However, this niche seems to show some potential. One thing we could do is take another popular book and turn it into an app where we could add different features besides the raw version of the book. This might include daily quotes from the book, an audio version of the book, quizzes about the book, etc. On top of that, we could also embed a dictionary within the app, so users don't need to exit our app to look up words in an external app.\n",
    "\n",
    "This idea seems to fit well with the fact that the App Store is dominated by for-fun apps. This suggests the market might be a bit saturated with for-fun apps, which means a practical app might have more of a chance to stand out among the huge number of apps on the App Store.\n",
    "\n",
    "Other genres that seem popular include weather, book, food and drink, or finance. The book genre seem to overlap a bit with the app idea we described above, but the other genres don't seem too interesting to us:\n",
    "\n",
    "Weather apps — people generally don't spend too much time in-app, and the chances of making profit from in-app adds are low. Also, getting reliable live weather data may require us to connect our apps to non-free APIs.\n",
    "\n",
    "Food and drink — examples here include Starbucks, Dunkin' Donuts, McDonald's, etc. So making a popular food and drink app requires actual cooking and a delivery service, which is outside the scope of our company.\n",
    "\n",
    "Finance apps — these apps involve banking, paying bills, money transfer, etc. Building a finance app requires domain knowledge, and we don't want to hire a finance expert just to build an app.\n",
    "\n",
    "Now let's analyze the Google Play market a bit."
   ]
  },
  {
   "cell_type": "markdown",
   "id": "29cc19db",
   "metadata": {},
   "source": [
    "#### For Google Play:"
   ]
  },
  {
   "cell_type": "markdown",
   "id": "63e53b45",
   "metadata": {},
   "source": [
    "For the Google Play market, we have data about the number of `Installs` (with index 5), so we should be able to get a clearer picture about genre popularity. However, the install numbers don't seem precise enough — we can see that most values are open-ended (100+, 1,000+, 5,000+, etc.):"
   ]
  },
  {
   "cell_type": "code",
   "execution_count": 32,
   "id": "ea286d3a",
   "metadata": {},
   "outputs": [
    {
     "name": "stdout",
     "output_type": "stream",
     "text": [
      "1,000,000+ : 0.1575497287522604\n",
      "100,000+ : 0.11539330922242315\n",
      "10,000,000+ : 0.10567359855334539\n",
      "10,000+ : 0.10194394213381555\n",
      "1,000+ : 0.0839737793851718\n",
      "100+ : 0.06928119349005425\n",
      "5,000,000+ : 0.06826401446654612\n",
      "500,000+ : 0.05560578661844485\n",
      "50,000+ : 0.04769439421338156\n",
      "5,000+ : 0.04486889692585895\n",
      "10+ : 0.035375226039783\n",
      "500+ : 0.03243670886075949\n",
      "50,000,000+ : 0.022830018083182642\n",
      "100,000,000+ : 0.021360759493670885\n",
      "50+ : 0.019213381555153706\n",
      "5+ : 0.007911392405063292\n",
      "1+ : 0.005085895117540687\n",
      "500,000,000+ : 0.0027124773960217\n",
      "1,000,000,000+ : 0.0022603978300180833\n",
      "0+ : 0.0004520795660036166\n",
      "0 : 0.00011301989150090416\n"
     ]
    }
   ],
   "source": [
    "display_table(android_free,5)"
   ]
  },
  {
   "cell_type": "markdown",
   "id": "482fcff3",
   "metadata": {},
   "source": [
    "One problem with this data is that is not precise. For instance, we don't know whether an app with 100,000+ installs has 100,000 installs, 200,000, or 350,000. However, we don't need very precise data for our purposes — we only want to get an idea which app genres attract the most users, and we don't need perfect precision with respect to the number of users."
   ]
  },
  {
   "cell_type": "markdown",
   "id": "801b64b0",
   "metadata": {},
   "source": [
    "We're going to leave the numbers as they are, which means that we'll consider that an app with 100,000+ installs has 100,000 installs, and an app with 1,000,000+ installs has 1,000,000 installs, and so on."
   ]
  },
  {
   "cell_type": "markdown",
   "id": "e858111e",
   "metadata": {},
   "source": [
    "##### We start by generating a frequency table for the `Category`  column (with index 1) of the Google Play dataset to get the unique app genres."
   ]
  },
  {
   "cell_type": "code",
   "execution_count": 33,
   "id": "9d55baf6",
   "metadata": {},
   "outputs": [],
   "source": [
    "android_category=freq_table(android_free,1)"
   ]
  },
  {
   "cell_type": "code",
   "execution_count": 34,
   "id": "39d32c66",
   "metadata": {},
   "outputs": [
    {
     "name": "stdout",
     "output_type": "stream",
     "text": [
      "{'ART_AND_DESIGN': 0.006442133815551537, 'AUTO_AND_VEHICLES': 0.009267631103074141, 'BEAUTY': 0.00599005424954792, 'BOOKS_AND_REFERENCE': 0.021360759493670885, 'BUSINESS': 0.04599909584086799, 'COMICS': 0.0061030741410488245, 'COMMUNICATION': 0.032323688969258586, 'DATING': 0.018648282097649186, 'EDUCATION': 0.01164104882459313, 'ENTERTAINMENT': 0.009606690777576853, 'EVENTS': 0.007120253164556962, 'FINANCE': 0.037070524412296565, 'FOOD_AND_DRINK': 0.012432188065099457, 'HEALTH_AND_FITNESS': 0.030854430379746837, 'HOUSE_AND_HOME': 0.008024412296564195, 'LIBRARIES_AND_DEMO': 0.009380650994575045, 'LIFESTYLE': 0.03887884267631103, 'GAME': 0.09697106690777577, 'FAMILY': 0.18942133815551537, 'MEDICAL': 0.035375226039783, 'SOCIAL': 0.02667269439421338, 'SHOPPING': 0.02249095840867993, 'PHOTOGRAPHY': 0.029498191681735987, 'SPORTS': 0.033905967450271246, 'TRAVEL_AND_LOCAL': 0.02339511754068716, 'TOOLS': 0.08453887884267632, 'PERSONALIZATION': 0.03322784810126582, 'PRODUCTIVITY': 0.03899186256781193, 'PARENTING': 0.006555153707052441, 'WEATHER': 0.007911392405063292, 'VIDEO_PLAYERS': 0.017970162748643763, 'NEWS_AND_MAGAZINES': 0.02802893309222423, 'MAPS_AND_NAVIGATION': 0.013901446654611212}\n"
     ]
    }
   ],
   "source": [
    "print(android_category)"
   ]
  },
  {
   "cell_type": "code",
   "execution_count": 35,
   "id": "f7fbbf37",
   "metadata": {},
   "outputs": [
    {
     "name": "stdout",
     "output_type": "stream",
     "text": [
      "ART_AND_DESIGN : 1986335.0877192982\n",
      "AUTO_AND_VEHICLES : 647317.8170731707\n",
      "BEAUTY : 513151.88679245283\n",
      "BOOKS_AND_REFERENCE : 8814199.78835979\n",
      "BUSINESS : 1712290.1474201474\n",
      "COMICS : 832613.8888888889\n",
      "COMMUNICATION : 38590581.08741259\n",
      "DATING : 854028.8303030303\n",
      "EDUCATION : 1833495.145631068\n",
      "ENTERTAINMENT : 11640705.88235294\n",
      "EVENTS : 253542.22222222222\n",
      "FINANCE : 1387692.475609756\n",
      "FOOD_AND_DRINK : 1924897.7363636363\n",
      "HEALTH_AND_FITNESS : 4188821.9853479853\n",
      "HOUSE_AND_HOME : 1360598.042253521\n",
      "LIBRARIES_AND_DEMO : 638503.734939759\n",
      "LIFESTYLE : 1446158.2238372094\n",
      "GAME : 15544014.51048951\n",
      "FAMILY : 3695641.8198090694\n",
      "MEDICAL : 120550.61980830671\n",
      "SOCIAL : 23253652.127118643\n",
      "SHOPPING : 7036877.311557789\n",
      "PHOTOGRAPHY : 17840110.40229885\n",
      "SPORTS : 3650602.276666667\n",
      "TRAVEL_AND_LOCAL : 13984077.710144928\n",
      "TOOLS : 10830251.970588235\n",
      "PERSONALIZATION : 5201482.6122448975\n",
      "PRODUCTIVITY : 16787331.344927534\n",
      "PARENTING : 542603.6206896552\n",
      "WEATHER : 5145550.285714285\n",
      "VIDEO_PLAYERS : 24727872.452830188\n",
      "NEWS_AND_MAGAZINES : 9549178.467741935\n",
      "MAPS_AND_NAVIGATION : 4049274.6341463416\n"
     ]
    }
   ],
   "source": [
    "avg_install_dic={}\n",
    "\n",
    "for category in android_category:\n",
    "    total=0\n",
    "    len_category=0\n",
    "    \n",
    "    for item in android_free:\n",
    "        category_app=item[1]\n",
    "        \n",
    "        if category_app==category:\n",
    "            number_install=item[5]\n",
    "            number_install=number_install.replace('+','')\n",
    "            number_install=number_install.replace(',','')\n",
    "            \n",
    "            total+=float(number_install)\n",
    "            len_category+=1\n",
    "    \n",
    "    avg_install=total / len_category\n",
    "    avg_install_dic[category]=avg_install\n",
    "    print(category,':', avg_install)"
   ]
  },
  {
   "cell_type": "code",
   "execution_count": 36,
   "id": "9f5326ef",
   "metadata": {},
   "outputs": [
    {
     "name": "stdout",
     "output_type": "stream",
     "text": [
      "COMMUNICATION : 38590581.08741259\n",
      "VIDEO_PLAYERS : 24727872.452830188\n",
      "SOCIAL : 23253652.127118643\n",
      "PHOTOGRAPHY : 17840110.40229885\n",
      "PRODUCTIVITY : 16787331.344927534\n",
      "GAME : 15544014.51048951\n",
      "TRAVEL_AND_LOCAL : 13984077.710144928\n",
      "ENTERTAINMENT : 11640705.88235294\n",
      "TOOLS : 10830251.970588235\n",
      "NEWS_AND_MAGAZINES : 9549178.467741935\n",
      "BOOKS_AND_REFERENCE : 8814199.78835979\n",
      "SHOPPING : 7036877.311557789\n",
      "PERSONALIZATION : 5201482.6122448975\n",
      "WEATHER : 5145550.285714285\n",
      "HEALTH_AND_FITNESS : 4188821.9853479853\n",
      "MAPS_AND_NAVIGATION : 4049274.6341463416\n",
      "FAMILY : 3695641.8198090694\n",
      "SPORTS : 3650602.276666667\n",
      "ART_AND_DESIGN : 1986335.0877192982\n",
      "FOOD_AND_DRINK : 1924897.7363636363\n",
      "EDUCATION : 1833495.145631068\n",
      "BUSINESS : 1712290.1474201474\n",
      "LIFESTYLE : 1446158.2238372094\n",
      "FINANCE : 1387692.475609756\n",
      "HOUSE_AND_HOME : 1360598.042253521\n",
      "DATING : 854028.8303030303\n",
      "COMICS : 832613.8888888889\n",
      "AUTO_AND_VEHICLES : 647317.8170731707\n",
      "LIBRARIES_AND_DEMO : 638503.734939759\n",
      "PARENTING : 542603.6206896552\n",
      "BEAUTY : 513151.88679245283\n",
      "EVENTS : 253542.22222222222\n",
      "MEDICAL : 120550.61980830671\n"
     ]
    }
   ],
   "source": [
    "display_table_2(avg_install_dic)"
   ]
  },
  {
   "cell_type": "markdown",
   "id": "9b790fa0",
   "metadata": {},
   "source": [
    "On average, communication apps have the most installs: 38,590,581. This number is heavily skewed up by a few apps that have over one billion installs (WhatsApp, Facebook Messenger, Skype, Google Chrome, Gmail, and Hangouts), and a few others with over 100 and 500 million installs: "
   ]
  },
  {
   "cell_type": "code",
   "execution_count": 37,
   "id": "5ebd6c76",
   "metadata": {},
   "outputs": [
    {
     "name": "stdout",
     "output_type": "stream",
     "text": [
      "WhatsApp Messenger : 1,000,000,000+\n",
      "imo beta free calls and text : 100,000,000+\n",
      "Android Messages : 100,000,000+\n",
      "Google Duo - High Quality Video Calls : 500,000,000+\n",
      "Messenger – Text and Video Chat for Free : 1,000,000,000+\n",
      "imo free video calls and chat : 500,000,000+\n",
      "Skype - free IM & video calls : 1,000,000,000+\n",
      "Who : 100,000,000+\n",
      "GO SMS Pro - Messenger, Free Themes, Emoji : 100,000,000+\n",
      "LINE: Free Calls & Messages : 500,000,000+\n",
      "Google Chrome: Fast & Secure : 1,000,000,000+\n",
      "Firefox Browser fast & private : 100,000,000+\n",
      "UC Browser - Fast Download Private & Secure : 500,000,000+\n",
      "Gmail : 1,000,000,000+\n",
      "Hangouts : 1,000,000,000+\n",
      "Messenger Lite: Free Calls & Messages : 100,000,000+\n",
      "Kik : 100,000,000+\n",
      "KakaoTalk: Free Calls & Text : 100,000,000+\n",
      "Opera Mini - fast web browser : 100,000,000+\n",
      "Opera Browser: Fast and Secure : 100,000,000+\n",
      "Telegram : 100,000,000+\n",
      "Truecaller: Caller ID, SMS spam blocking & Dialer : 100,000,000+\n",
      "UC Browser Mini -Tiny Fast Private & Secure : 100,000,000+\n",
      "Viber Messenger : 500,000,000+\n",
      "WeChat : 100,000,000+\n",
      "Yahoo Mail – Stay Organized : 100,000,000+\n",
      "BBM - Free Calls & Messages : 100,000,000+\n"
     ]
    }
   ],
   "source": [
    "for app in android_free:\n",
    "    if app[1] == 'COMMUNICATION' and (app[5] == '1,000,000,000+'\n",
    "                                      or app[5] == '500,000,000+'\n",
    "                                      or app[5] == '100,000,000+'):\n",
    "        print(app[0], ':', app[5])"
   ]
  },
  {
   "cell_type": "markdown",
   "id": "74af4572",
   "metadata": {},
   "source": [
    "We see the same pattern for the video players category, which is the runner-up with 24,727,872 installs. The market is dominated by apps like Youtube, Google Play Movies & TV, or MX Player. The pattern is repeated for social apps (where we have giants like Facebook, Instagram, Google+, etc.), photography apps (Google Photos and other popular photo editors), or productivity apps (Microsoft Word, Dropbox, Google Calendar, Evernote, etc.).\n",
    "\n",
    "Again, the main concern is that these app genres might seem more popular than they really are. Moreover, these niches seem to be dominated by a few giants who are hard to compete against.\n",
    "\n",
    "The game genre seems pretty popular, but previously we found out this part of the market seems a bit saturated, so we'd like to come up with a different app recommendation if possible.\n",
    "\n",
    "The books and reference genre looks fairly popular as well, with an average number of installs of 8,814,159. It's interesting to explore this in more depth, since we found this genre has some potential to work well on the App Store, and our aim is to recommend an app genre that shows potential for being profitable on both the App Store and Google Play.\n",
    "\n",
    "Let's take a look at some of the apps from this genre and their number of installs:"
   ]
  },
  {
   "cell_type": "code",
   "execution_count": 38,
   "id": "dbd792be",
   "metadata": {},
   "outputs": [
    {
     "name": "stdout",
     "output_type": "stream",
     "text": [
      "E-Book Read - Read Book for free : 50,000+\n",
      "Download free book with green book : 100,000+\n",
      "Wikipedia : 10,000,000+\n",
      "Cool Reader : 10,000,000+\n",
      "Free Panda Radio Music : 100,000+\n",
      "Book store : 1,000,000+\n",
      "FBReader: Favorite Book Reader : 10,000,000+\n",
      "English Grammar Complete Handbook : 500,000+\n",
      "Free Books - Spirit Fanfiction and Stories : 1,000,000+\n",
      "Google Play Books : 1,000,000,000+\n",
      "AlReader -any text book reader : 5,000,000+\n",
      "Offline English Dictionary : 100,000+\n",
      "Offline: English to Tagalog Dictionary : 500,000+\n",
      "FamilySearch Tree : 1,000,000+\n",
      "Cloud of Books : 1,000,000+\n",
      "Recipes of Prophetic Medicine for free : 500,000+\n",
      "ReadEra – free ebook reader : 1,000,000+\n",
      "Anonymous caller detection : 10,000+\n",
      "Ebook Reader : 5,000,000+\n",
      "Litnet - E-books : 100,000+\n",
      "Read books online : 5,000,000+\n",
      "English to Urdu Dictionary : 500,000+\n",
      "eBoox: book reader fb2 epub zip : 1,000,000+\n",
      "English Persian Dictionary : 500,000+\n",
      "Flybook : 500,000+\n",
      "All Maths Formulas : 1,000,000+\n",
      "Ancestry : 5,000,000+\n",
      "HTC Help : 10,000,000+\n",
      "English translation from Bengali : 100,000+\n",
      "Pdf Book Download - Read Pdf Book : 100,000+\n",
      "Free Book Reader : 100,000+\n",
      "eBoox new: Reader for fb2 epub zip books : 50,000+\n",
      "Only 30 days in English, the guideline is guaranteed : 500,000+\n",
      "Moon+ Reader : 10,000,000+\n",
      "SH-02J Owner's Manual (Android 8.0) : 50,000+\n",
      "English-Myanmar Dictionary : 1,000,000+\n",
      "Golden Dictionary (EN-AR) : 1,000,000+\n",
      "All Language Translator Free : 1,000,000+\n",
      "Azpen eReader : 500,000+\n",
      "URBANO V 02 instruction manual : 100,000+\n",
      "Bible : 100,000,000+\n",
      "C Programs and Reference : 50,000+\n",
      "C Offline Tutorial : 1,000+\n",
      "C Programs Handbook : 50,000+\n",
      "Amazon Kindle : 100,000,000+\n",
      "Aab e Hayat Full Novel : 100,000+\n",
      "Aldiko Book Reader : 10,000,000+\n",
      "Google I/O 2018 : 500,000+\n",
      "R Language Reference Guide : 10,000+\n",
      "Learn R Programming Full : 5,000+\n",
      "R Programing Offline Tutorial : 1,000+\n",
      "Guide for R Programming : 5+\n",
      "Learn R Programming : 10+\n",
      "R Quick Reference Big Data : 1,000+\n",
      "V Made : 100,000+\n",
      "Wattpad 📖 Free Books : 100,000,000+\n",
      "Dictionary - WordWeb : 5,000,000+\n",
      "Guide (for X-MEN) : 100,000+\n",
      "AC Air condition Troubleshoot,Repair,Maintenance : 5,000+\n",
      "AE Bulletins : 1,000+\n",
      "Ae Allah na Dai (Rasa) : 10,000+\n",
      "50000 Free eBooks & Free AudioBooks : 5,000,000+\n",
      "Ag PhD Field Guide : 10,000+\n",
      "Ag PhD Deficiencies : 10,000+\n",
      "Ag PhD Planting Population Calculator : 1,000+\n",
      "Ag PhD Soybean Diseases : 1,000+\n",
      "Fertilizer Removal By Crop : 50,000+\n",
      "A-J Media Vault : 50+\n",
      "Al-Quran (Free) : 10,000,000+\n",
      "Al Quran (Tafsir & by Word) : 500,000+\n",
      "Al Quran Indonesia : 10,000,000+\n",
      "Al'Quran Bahasa Indonesia : 10,000,000+\n",
      "Al Quran Al karim : 1,000,000+\n",
      "Al-Muhaffiz : 50,000+\n",
      "Al Quran : EAlim - Translations & MP3 Offline : 5,000,000+\n",
      "Al-Quran 30 Juz free copies : 500,000+\n",
      "Koran Read &MP3 30 Juz Offline : 1,000,000+\n",
      "Hafizi Quran 15 lines per page : 1,000,000+\n",
      "Quran for Android : 10,000,000+\n",
      "Surah Al-Waqiah : 100,000+\n",
      "Hisnul Al Muslim - Hisn Invocations & Adhkaar : 100,000+\n",
      "Satellite AR : 1,000,000+\n",
      "Audiobooks from Audible : 100,000,000+\n",
      "Kinot & Eichah for Tisha B'Av : 10,000+\n",
      "AW Tozer Devotionals - Daily : 5,000+\n",
      "Tozer Devotional -Series 1 : 1,000+\n",
      "The Pursuit of God : 1,000+\n",
      "AY Sing : 5,000+\n",
      "Ay Hasnain k Nana Milad Naat : 10,000+\n",
      "Ay Mohabbat Teri Khatir Novel : 10,000+\n",
      "Arizona Statutes, ARS (AZ Law) : 1,000+\n",
      "Oxford A-Z of English Usage : 1,000,000+\n",
      "BD Fishpedia : 1,000+\n",
      "BD All Sim Offer : 10,000+\n",
      "Youboox - Livres, BD et magazines : 500,000+\n",
      "B&H Kids AR : 10,000+\n",
      "B y H Niños ES : 5,000+\n",
      "Dictionary.com: Find Definitions for English Words : 10,000,000+\n",
      "English Dictionary - Offline : 10,000,000+\n",
      "Bible KJV : 5,000,000+\n",
      "Borneo Bible, BM Bible : 10,000+\n",
      "MOD Black for BM : 100+\n",
      "BM Box : 1,000+\n",
      "Anime Mod for BM : 100+\n",
      "NOOK: Read eBooks & Magazines : 10,000,000+\n",
      "NOOK Audiobooks : 500,000+\n",
      "NOOK App for NOOK Devices : 500,000+\n",
      "Browsery by Barnes & Noble : 5,000+\n",
      "bp e-store : 1,000+\n",
      "Brilliant Quotes: Life, Love, Family & Motivation : 1,000,000+\n",
      "BR Ambedkar Biography & Quotes : 10,000+\n",
      "BU Alsace : 100+\n",
      "Catholic La Bu Zo Kam : 500+\n",
      "Khrifa Hla Bu (Solfa) : 10+\n",
      "Kristian Hla Bu : 10,000+\n",
      "SA HLA BU : 1,000+\n",
      "Learn SAP BW : 500+\n",
      "Learn SAP BW on HANA : 500+\n",
      "CA Laws 2018 (California Laws and Codes) : 5,000+\n",
      "Bootable Methods(USB-CD-DVD) : 10,000+\n",
      "cloudLibrary : 100,000+\n",
      "SDA Collegiate Quarterly : 500+\n",
      "Sabbath School : 100,000+\n",
      "Cypress College Library : 100+\n",
      "Stats Royale for Clash Royale : 1,000,000+\n",
      "GATE 21 years CS Papers(2011-2018 Solved) : 50+\n",
      "Learn CT Scan Of Head : 5,000+\n",
      "Easy Cv maker 2018 : 10,000+\n",
      "How to Write CV : 100,000+\n",
      "CW Nuclear : 1,000+\n",
      "CY Spray nozzle : 10+\n",
      "BibleRead En Cy Zh Yue : 5+\n",
      "CZ-Help : 5+\n",
      "Guide for DB Xenoverse : 10,000+\n",
      "Guide for DB Xenoverse 2 : 10,000+\n",
      "Guide for IMS DB : 10+\n",
      "DC HSEMA : 5,000+\n",
      "DC Public Library : 1,000+\n",
      "Painting Lulu DC Super Friends : 1,000+\n",
      "Dictionary : 10,000,000+\n",
      "Fix Error Google Playstore : 1,000+\n",
      "D. H. Lawrence Poems FREE : 1,000+\n",
      "Bilingual Dictionary Audio App : 5,000+\n",
      "DM Screen : 10,000+\n",
      "wikiHow: how to do anything : 1,000,000+\n",
      "Dr. Doug's Tips : 1,000+\n",
      "Bible du Semeur-BDS (French) : 50,000+\n",
      "La citadelle du musulman : 50,000+\n",
      "DV 2019 Entry Guide : 10,000+\n",
      "DV 2019 - EDV Photo & Form : 50,000+\n",
      "DV 2018 Winners Guide : 1,000+\n",
      "EB Annual Meetings : 1,000+\n",
      "EC - AP & Telangana : 5,000+\n",
      "TN Patta Citta & EC : 10,000+\n",
      "AP Stamps and Registration : 10,000+\n",
      "CompactiMa EC pH Calibration : 100+\n",
      "EGW Writings 2 : 100,000+\n",
      "EGW Writings : 1,000,000+\n",
      "Bible with EGW Comments : 100,000+\n",
      "My Little Pony AR Guide : 1,000,000+\n",
      "SDA Sabbath School Quarterly : 500,000+\n",
      "Duaa Ek Ibaadat : 5,000+\n",
      "Spanish English Translator : 10,000,000+\n",
      "Dictionary - Merriam-Webster : 10,000,000+\n",
      "JW Library : 10,000,000+\n",
      "Oxford Dictionary of English : Free : 10,000,000+\n",
      "English Hindi Dictionary : 10,000,000+\n",
      "English to Hindi Dictionary : 5,000,000+\n",
      "EP Research Service : 1,000+\n",
      "Hymnes et Louanges : 100,000+\n",
      "EU Charter : 1,000+\n",
      "EU Data Protection : 1,000+\n",
      "EU IP Codes : 100+\n",
      "EW PDF : 5+\n",
      "BakaReader EX : 100,000+\n",
      "EZ Quran : 50,000+\n",
      "FA Part 1 & 2 Past Papers Solved Free – Offline : 5,000+\n",
      "La Fe de Jesus : 1,000+\n",
      "La Fe de Jesús : 500+\n",
      "Le Fe de Jesus : 500+\n",
      "Florida - Pocket Brainbook : 1,000+\n",
      "Florida Statutes (FL Code) : 1,000+\n",
      "English To Shona Dictionary : 10,000+\n",
      "Greek Bible FP (Audio) : 1,000+\n",
      "Golden Dictionary (FR-AR) : 500,000+\n",
      "Fanfic-FR : 5,000+\n",
      "Bulgarian French Dictionary Fr : 10,000+\n",
      "Chemin (fr) : 1,000+\n",
      "The SCP Foundation DB fr nn5n : 1,000+\n"
     ]
    }
   ],
   "source": [
    "for app in android_free:\n",
    "    if app[1] == 'BOOKS_AND_REFERENCE':\n",
    "        print(app[0], ':', app[5])"
   ]
  },
  {
   "cell_type": "markdown",
   "id": "c5ad3a0b",
   "metadata": {},
   "source": [
    "It seems there's still a small number of extremely popular apps that skew the average:"
   ]
  },
  {
   "cell_type": "code",
   "execution_count": 39,
   "id": "b4574f33",
   "metadata": {},
   "outputs": [
    {
     "name": "stdout",
     "output_type": "stream",
     "text": [
      "Google Play Books : 1,000,000,000+\n",
      "Bible : 100,000,000+\n",
      "Amazon Kindle : 100,000,000+\n",
      "Wattpad 📖 Free Books : 100,000,000+\n",
      "Audiobooks from Audible : 100,000,000+\n"
     ]
    }
   ],
   "source": [
    "for app in android_free:\n",
    "    if app[1] == 'BOOKS_AND_REFERENCE' and (app[5] == '1,000,000,000+'\n",
    "                                            or app[5] == '500,000,000+'\n",
    "                                            or app[5] == '100,000,000+'):\n",
    "        print(app[0], ':', app[5])"
   ]
  },
  {
   "cell_type": "markdown",
   "id": "cf4a09fc",
   "metadata": {},
   "source": [
    "However, it looks like there are only a few very popular apps, so this market still shows potential. \n",
    "\n",
    "Let's try to get some app ideas based on the kind of apps that are somewhere in the middle in terms of popularity (between 1,000,000 and 100,000,000 downloads):"
   ]
  },
  {
   "cell_type": "code",
   "execution_count": 40,
   "id": "66db2f39",
   "metadata": {},
   "outputs": [
    {
     "name": "stdout",
     "output_type": "stream",
     "text": [
      "Wikipedia : 10,000,000+\n",
      "Cool Reader : 10,000,000+\n",
      "Book store : 1,000,000+\n",
      "FBReader: Favorite Book Reader : 10,000,000+\n",
      "Free Books - Spirit Fanfiction and Stories : 1,000,000+\n",
      "AlReader -any text book reader : 5,000,000+\n",
      "FamilySearch Tree : 1,000,000+\n",
      "Cloud of Books : 1,000,000+\n",
      "ReadEra – free ebook reader : 1,000,000+\n",
      "Ebook Reader : 5,000,000+\n",
      "Read books online : 5,000,000+\n",
      "eBoox: book reader fb2 epub zip : 1,000,000+\n",
      "All Maths Formulas : 1,000,000+\n",
      "Ancestry : 5,000,000+\n",
      "HTC Help : 10,000,000+\n",
      "Moon+ Reader : 10,000,000+\n",
      "English-Myanmar Dictionary : 1,000,000+\n",
      "Golden Dictionary (EN-AR) : 1,000,000+\n",
      "All Language Translator Free : 1,000,000+\n",
      "Aldiko Book Reader : 10,000,000+\n",
      "Dictionary - WordWeb : 5,000,000+\n",
      "50000 Free eBooks & Free AudioBooks : 5,000,000+\n",
      "Al-Quran (Free) : 10,000,000+\n",
      "Al Quran Indonesia : 10,000,000+\n",
      "Al'Quran Bahasa Indonesia : 10,000,000+\n",
      "Al Quran Al karim : 1,000,000+\n",
      "Al Quran : EAlim - Translations & MP3 Offline : 5,000,000+\n",
      "Koran Read &MP3 30 Juz Offline : 1,000,000+\n",
      "Hafizi Quran 15 lines per page : 1,000,000+\n",
      "Quran for Android : 10,000,000+\n",
      "Satellite AR : 1,000,000+\n",
      "Oxford A-Z of English Usage : 1,000,000+\n",
      "Dictionary.com: Find Definitions for English Words : 10,000,000+\n",
      "English Dictionary - Offline : 10,000,000+\n",
      "Bible KJV : 5,000,000+\n",
      "NOOK: Read eBooks & Magazines : 10,000,000+\n",
      "Brilliant Quotes: Life, Love, Family & Motivation : 1,000,000+\n",
      "Stats Royale for Clash Royale : 1,000,000+\n",
      "Dictionary : 10,000,000+\n",
      "wikiHow: how to do anything : 1,000,000+\n",
      "EGW Writings : 1,000,000+\n",
      "My Little Pony AR Guide : 1,000,000+\n",
      "Spanish English Translator : 10,000,000+\n",
      "Dictionary - Merriam-Webster : 10,000,000+\n",
      "JW Library : 10,000,000+\n",
      "Oxford Dictionary of English : Free : 10,000,000+\n",
      "English Hindi Dictionary : 10,000,000+\n",
      "English to Hindi Dictionary : 5,000,000+\n"
     ]
    }
   ],
   "source": [
    "for app in android_free:\n",
    "    if app[1] == 'BOOKS_AND_REFERENCE' and (app[5] == '1,000,000+'\n",
    "                                            or app[5] == '5,000,000+'\n",
    "                                            or app[5] == '10,000,000+'\n",
    "                                            or app[5] == '50,000,000+'):\n",
    "        print(app[0], ':', app[5])"
   ]
  },
  {
   "cell_type": "markdown",
   "id": "da5d680d",
   "metadata": {},
   "source": [
    "This niche seems to be dominated by software for processing and reading ebooks, as well as various collections of libraries and dictionaries, so it's probably not a good idea to build similar apps since there'll be some significant competition.\n",
    "\n",
    "We also notice there are quite a few apps built around the book Quran, which suggests that building an app around a popular book can be profitable. It seems that taking a popular book (perhaps a more recent book) and turning it into an app could be profitable for both the Google Play and the App Store markets.\n",
    "\n",
    "However, it looks like the market is already full of libraries, so we need to add some special features besides the raw version of the book. This might include daily quotes from the book, an audio version of the book, quizzes on the book, a forum where people can discuss the book, etc."
   ]
  },
  {
   "cell_type": "markdown",
   "id": "13fc6a76",
   "metadata": {},
   "source": [
    "# Conclusions"
   ]
  },
  {
   "cell_type": "markdown",
   "id": "8cc6f2c0",
   "metadata": {},
   "source": [
    "In this project, we analyzed data about the App Store and Google Play mobile apps with the goal of recommending an app profile that can be profitable for both markets.\n",
    "\n",
    "We concluded that taking a popular book (perhaps a more recent book) and turning it into an app could be profitable for both the Google Play and the App Store markets. The markets are already full of libraries, so we need to add some special features besides the raw version of the book. This might include daily quotes from the book, an audio version of the book, quizzes on the book, a forum where people can discuss the book, etc."
   ]
  }
 ],
 "metadata": {
  "celltoolbar": "Raw Cell Format",
  "kernelspec": {
   "display_name": "Python 3 (ipykernel)",
   "language": "python",
   "name": "python3"
  },
  "language_info": {
   "codemirror_mode": {
    "name": "ipython",
    "version": 3
   },
   "file_extension": ".py",
   "mimetype": "text/x-python",
   "name": "python",
   "nbconvert_exporter": "python",
   "pygments_lexer": "ipython3",
   "version": "3.9.12"
  }
 },
 "nbformat": 4,
 "nbformat_minor": 5
}
